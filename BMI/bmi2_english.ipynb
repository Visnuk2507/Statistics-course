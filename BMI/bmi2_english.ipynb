{
 "cells": [
  {
   "cell_type": "markdown",
   "metadata": {},
   "source": [
    "# BMI Project 2 - English\n",
    "This notebook is for assistance with the coding of some questions in the project.\n",
    "The sections are marked with the corresponding question in the project description.\n",
    "Remember, this code is provided to get started with the project, but the code is not complete for answering the corresponding questions."
   ]
  },
  {
   "cell_type": "markdown",
   "metadata": {},
   "source": [
    "#### Initialize Python Packages"
   ]
  },
  {
   "cell_type": "code",
   "execution_count": 10,
   "metadata": {},
   "outputs": [],
   "source": [
    "import numpy as np\n",
    "import matplotlib.pyplot as plt\n",
    "import pandas as pd\n",
    "import scipy.stats as stats\n",
    "import statsmodels.formula.api as smf\n",
    "import statsmodels.api as sm"
   ]
  },
  {
   "cell_type": "markdown",
   "metadata": {},
   "source": [
    "#### Read Data"
   ]
  },
  {
   "cell_type": "code",
   "execution_count": 11,
   "metadata": {},
   "outputs": [
    {
     "data": {
      "text/html": [
       "<div>\n",
       "<style scoped>\n",
       "    .dataframe tbody tr th:only-of-type {\n",
       "        vertical-align: middle;\n",
       "    }\n",
       "\n",
       "    .dataframe tbody tr th {\n",
       "        vertical-align: top;\n",
       "    }\n",
       "\n",
       "    .dataframe thead th {\n",
       "        text-align: right;\n",
       "    }\n",
       "</style>\n",
       "<table border=\"1\" class=\"dataframe\">\n",
       "  <thead>\n",
       "    <tr style=\"text-align: right;\">\n",
       "      <th></th>\n",
       "      <th>id</th>\n",
       "      <th>bmi</th>\n",
       "      <th>age</th>\n",
       "      <th>fastfood</th>\n",
       "    </tr>\n",
       "  </thead>\n",
       "  <tbody>\n",
       "    <tr>\n",
       "      <th>0</th>\n",
       "      <td>1</td>\n",
       "      <td>21.296296</td>\n",
       "      <td>44</td>\n",
       "      <td>0.0</td>\n",
       "    </tr>\n",
       "    <tr>\n",
       "      <th>1</th>\n",
       "      <td>2</td>\n",
       "      <td>21.545091</td>\n",
       "      <td>63</td>\n",
       "      <td>1.0</td>\n",
       "    </tr>\n",
       "    <tr>\n",
       "      <th>2</th>\n",
       "      <td>3</td>\n",
       "      <td>24.221453</td>\n",
       "      <td>69</td>\n",
       "      <td>1.0</td>\n",
       "    </tr>\n",
       "    <tr>\n",
       "      <th>3</th>\n",
       "      <td>4</td>\n",
       "      <td>26.122449</td>\n",
       "      <td>51</td>\n",
       "      <td>1.0</td>\n",
       "    </tr>\n",
       "    <tr>\n",
       "      <th>4</th>\n",
       "      <td>5</td>\n",
       "      <td>26.365603</td>\n",
       "      <td>68</td>\n",
       "      <td>6.0</td>\n",
       "    </tr>\n",
       "    <tr>\n",
       "      <th>...</th>\n",
       "      <td>...</td>\n",
       "      <td>...</td>\n",
       "      <td>...</td>\n",
       "      <td>...</td>\n",
       "    </tr>\n",
       "    <tr>\n",
       "      <th>842</th>\n",
       "      <td>843</td>\n",
       "      <td>26.296567</td>\n",
       "      <td>45</td>\n",
       "      <td>24.0</td>\n",
       "    </tr>\n",
       "    <tr>\n",
       "      <th>843</th>\n",
       "      <td>844</td>\n",
       "      <td>27.776911</td>\n",
       "      <td>45</td>\n",
       "      <td>24.0</td>\n",
       "    </tr>\n",
       "    <tr>\n",
       "      <th>844</th>\n",
       "      <td>845</td>\n",
       "      <td>22.343516</td>\n",
       "      <td>44</td>\n",
       "      <td>24.0</td>\n",
       "    </tr>\n",
       "    <tr>\n",
       "      <th>845</th>\n",
       "      <td>846</td>\n",
       "      <td>26.149277</td>\n",
       "      <td>48</td>\n",
       "      <td>6.0</td>\n",
       "    </tr>\n",
       "    <tr>\n",
       "      <th>846</th>\n",
       "      <td>847</td>\n",
       "      <td>21.296296</td>\n",
       "      <td>24</td>\n",
       "      <td>78.2</td>\n",
       "    </tr>\n",
       "  </tbody>\n",
       "</table>\n",
       "<p>847 rows × 4 columns</p>\n",
       "</div>"
      ],
      "text/plain": [
       "      id        bmi  age  fastfood\n",
       "0      1  21.296296   44       0.0\n",
       "1      2  21.545091   63       1.0\n",
       "2      3  24.221453   69       1.0\n",
       "3      4  26.122449   51       1.0\n",
       "4      5  26.365603   68       6.0\n",
       "..   ...        ...  ...       ...\n",
       "842  843  26.296567   45      24.0\n",
       "843  844  27.776911   45      24.0\n",
       "844  845  22.343516   44      24.0\n",
       "845  846  26.149277   48       6.0\n",
       "846  847  21.296296   24      78.2\n",
       "\n",
       "[847 rows x 4 columns]"
      ]
     },
     "execution_count": 11,
     "metadata": {},
     "output_type": "execute_result"
    }
   ],
   "source": [
    "# Path to file (insert your own path)\n",
    "file_path = 'data/bmi2_data.csv'\n",
    "\n",
    "# Load data\n",
    "D = pd.read_csv(file_path,sep=';')\n",
    "D"
   ]
  },
  {
   "cell_type": "markdown",
   "metadata": {},
   "source": [
    "#### Log transform"
   ]
  },
  {
   "cell_type": "code",
   "execution_count": 12,
   "metadata": {},
   "outputs": [
    {
     "data": {
      "text/html": [
       "<div>\n",
       "<style scoped>\n",
       "    .dataframe tbody tr th:only-of-type {\n",
       "        vertical-align: middle;\n",
       "    }\n",
       "\n",
       "    .dataframe tbody tr th {\n",
       "        vertical-align: top;\n",
       "    }\n",
       "\n",
       "    .dataframe thead th {\n",
       "        text-align: right;\n",
       "    }\n",
       "</style>\n",
       "<table border=\"1\" class=\"dataframe\">\n",
       "  <thead>\n",
       "    <tr style=\"text-align: right;\">\n",
       "      <th></th>\n",
       "      <th>id</th>\n",
       "      <th>bmi</th>\n",
       "      <th>age</th>\n",
       "      <th>fastfood</th>\n",
       "      <th>logbmi</th>\n",
       "    </tr>\n",
       "  </thead>\n",
       "  <tbody>\n",
       "    <tr>\n",
       "      <th>0</th>\n",
       "      <td>1</td>\n",
       "      <td>21.296296</td>\n",
       "      <td>44</td>\n",
       "      <td>0.0</td>\n",
       "      <td>3.058533</td>\n",
       "    </tr>\n",
       "    <tr>\n",
       "      <th>1</th>\n",
       "      <td>2</td>\n",
       "      <td>21.545091</td>\n",
       "      <td>63</td>\n",
       "      <td>1.0</td>\n",
       "      <td>3.070148</td>\n",
       "    </tr>\n",
       "    <tr>\n",
       "      <th>2</th>\n",
       "      <td>3</td>\n",
       "      <td>24.221453</td>\n",
       "      <td>69</td>\n",
       "      <td>1.0</td>\n",
       "      <td>3.187239</td>\n",
       "    </tr>\n",
       "    <tr>\n",
       "      <th>3</th>\n",
       "      <td>4</td>\n",
       "      <td>26.122449</td>\n",
       "      <td>51</td>\n",
       "      <td>1.0</td>\n",
       "      <td>3.262795</td>\n",
       "    </tr>\n",
       "    <tr>\n",
       "      <th>4</th>\n",
       "      <td>5</td>\n",
       "      <td>26.365603</td>\n",
       "      <td>68</td>\n",
       "      <td>6.0</td>\n",
       "      <td>3.272060</td>\n",
       "    </tr>\n",
       "    <tr>\n",
       "      <th>...</th>\n",
       "      <td>...</td>\n",
       "      <td>...</td>\n",
       "      <td>...</td>\n",
       "      <td>...</td>\n",
       "      <td>...</td>\n",
       "    </tr>\n",
       "    <tr>\n",
       "      <th>842</th>\n",
       "      <td>843</td>\n",
       "      <td>26.296567</td>\n",
       "      <td>45</td>\n",
       "      <td>24.0</td>\n",
       "      <td>3.269438</td>\n",
       "    </tr>\n",
       "    <tr>\n",
       "      <th>843</th>\n",
       "      <td>844</td>\n",
       "      <td>27.776911</td>\n",
       "      <td>45</td>\n",
       "      <td>24.0</td>\n",
       "      <td>3.324205</td>\n",
       "    </tr>\n",
       "    <tr>\n",
       "      <th>844</th>\n",
       "      <td>845</td>\n",
       "      <td>22.343516</td>\n",
       "      <td>44</td>\n",
       "      <td>24.0</td>\n",
       "      <td>3.106536</td>\n",
       "    </tr>\n",
       "    <tr>\n",
       "      <th>845</th>\n",
       "      <td>846</td>\n",
       "      <td>26.149277</td>\n",
       "      <td>48</td>\n",
       "      <td>6.0</td>\n",
       "      <td>3.263822</td>\n",
       "    </tr>\n",
       "    <tr>\n",
       "      <th>846</th>\n",
       "      <td>847</td>\n",
       "      <td>21.296296</td>\n",
       "      <td>24</td>\n",
       "      <td>78.2</td>\n",
       "      <td>3.058533</td>\n",
       "    </tr>\n",
       "  </tbody>\n",
       "</table>\n",
       "<p>847 rows × 5 columns</p>\n",
       "</div>"
      ],
      "text/plain": [
       "      id        bmi  age  fastfood    logbmi\n",
       "0      1  21.296296   44       0.0  3.058533\n",
       "1      2  21.545091   63       1.0  3.070148\n",
       "2      3  24.221453   69       1.0  3.187239\n",
       "3      4  26.122449   51       1.0  3.262795\n",
       "4      5  26.365603   68       6.0  3.272060\n",
       "..   ...        ...  ...       ...       ...\n",
       "842  843  26.296567   45      24.0  3.269438\n",
       "843  844  27.776911   45      24.0  3.324205\n",
       "844  845  22.343516   44      24.0  3.106536\n",
       "845  846  26.149277   48       6.0  3.263822\n",
       "846  847  21.296296   24      78.2  3.058533\n",
       "\n",
       "[847 rows x 5 columns]"
      ]
     },
     "execution_count": 12,
     "metadata": {},
     "output_type": "execute_result"
    }
   ],
   "source": [
    "# Add log-transformed BMI\n",
    "D['logbmi'] = np.log(D['bmi'])\n",
    "D"
   ]
  },
  {
   "cell_type": "markdown",
   "metadata": {},
   "source": [
    "#### Split the data\n",
    "Save seven observations for testing only. Use everything else for parameter estimation."
   ]
  },
  {
   "cell_type": "code",
   "execution_count": 13,
   "metadata": {},
   "outputs": [],
   "source": [
    "# Subset containing the first 840 observations (for model estimation)\n",
    "D_model = D[D['id'] <= 840]\n",
    "\n",
    "# Subset containing the last 7 observations (for validation)\n",
    "D_test = D[D['id'] >= 841]"
   ]
  },
  {
   "cell_type": "markdown",
   "metadata": {},
   "source": [
    "#### c) Fitting the model - Estimating parameters"
   ]
  },
  {
   "cell_type": "code",
   "execution_count": 14,
   "metadata": {},
   "outputs": [
    {
     "data": {
      "text/html": [
       "<table class=\"simpletable\">\n",
       "<caption>OLS Regression Results</caption>\n",
       "<tr>\n",
       "  <th>Dep. Variable:</th>     <td>logbmi</td>   <th>  R-squared:         </th> <td>   0.045</td>\n",
       "</tr>\n",
       "<tr>\n",
       "  <th>Model:</th>               <td>OLS</td>    <th>  Adj. R-squared:    </th> <td>   0.043</td>\n",
       "</tr>\n",
       "<tr>\n",
       "  <th>No. Observations:</th>  <td>   840</td>   <th>  F-statistic:       </th> <td>   19.66</td>\n",
       "</tr>\n",
       "<tr>\n",
       "  <th>Covariance Type:</th>  <td>nonrobust</td> <th>  Prob (F-statistic):</th> <td>4.53e-09</td>\n",
       "</tr>\n",
       "</table>\n",
       "<table class=\"simpletable\">\n",
       "<tr>\n",
       "      <td></td>         <th>coef</th>     <th>std err</th>      <th>t</th>      <th>P>|t|</th>  <th>[0.025</th>    <th>0.975]</th>  \n",
       "</tr>\n",
       "<tr>\n",
       "  <th>Intercept</th> <td>    3.1124</td> <td>    0.019</td> <td>  160.835</td> <td> 0.000</td> <td>    3.074</td> <td>    3.150</td>\n",
       "</tr>\n",
       "<tr>\n",
       "  <th>age</th>       <td>    0.0024</td> <td>    0.000</td> <td>    6.104</td> <td> 0.000</td> <td>    0.002</td> <td>    0.003</td>\n",
       "</tr>\n",
       "<tr>\n",
       "  <th>fastfood</th>  <td>    0.0005</td> <td>    0.000</td> <td>    3.119</td> <td> 0.002</td> <td>    0.000</td> <td>    0.001</td>\n",
       "</tr>\n",
       "</table><br/><br/>Notes:<br/>[1] Standard Errors assume that the covariance matrix of the errors is correctly specified."
      ],
      "text/latex": [
       "\\begin{center}\n",
       "\\begin{tabular}{lclc}\n",
       "\\toprule\n",
       "\\textbf{Dep. Variable:}    &     logbmi    & \\textbf{  R-squared:         } &     0.045   \\\\\n",
       "\\textbf{Model:}            &      OLS      & \\textbf{  Adj. R-squared:    } &     0.043   \\\\\n",
       "\\textbf{No. Observations:} &        840    & \\textbf{  F-statistic:       } &     19.66   \\\\\n",
       "\\textbf{Covariance Type:}  &   nonrobust   & \\textbf{  Prob (F-statistic):} &  4.53e-09   \\\\\n",
       "\\bottomrule\n",
       "\\end{tabular}\n",
       "\\begin{tabular}{lcccccc}\n",
       "                   & \\textbf{coef} & \\textbf{std err} & \\textbf{t} & \\textbf{P$> |$t$|$} & \\textbf{[0.025} & \\textbf{0.975]}  \\\\\n",
       "\\midrule\n",
       "\\textbf{Intercept} &       3.1124  &        0.019     &   160.835  &         0.000        &        3.074    &        3.150     \\\\\n",
       "\\textbf{age}       &       0.0024  &        0.000     &     6.104  &         0.000        &        0.002    &        0.003     \\\\\n",
       "\\textbf{fastfood}  &       0.0005  &        0.000     &     3.119  &         0.002        &        0.000    &        0.001     \\\\\n",
       "\\bottomrule\n",
       "\\end{tabular}\n",
       "%\\caption{OLS Regression Results}\n",
       "\\end{center}\n",
       "\n",
       "Notes: \\newline\n",
       " [1] Standard Errors assume that the covariance matrix of the errors is correctly specified."
      ],
      "text/plain": [
       "<class 'statsmodels.iolib.summary.Summary'>\n",
       "\"\"\"\n",
       "                            OLS Regression Results                            \n",
       "==============================================================================\n",
       "Dep. Variable:                 logbmi   R-squared:                       0.045\n",
       "Model:                            OLS   Adj. R-squared:                  0.043\n",
       "No. Observations:                 840   F-statistic:                     19.66\n",
       "Covariance Type:            nonrobust   Prob (F-statistic):           4.53e-09\n",
       "==============================================================================\n",
       "                 coef    std err          t      P>|t|      [0.025      0.975]\n",
       "------------------------------------------------------------------------------\n",
       "Intercept      3.1124      0.019    160.835      0.000       3.074       3.150\n",
       "age            0.0024      0.000      6.104      0.000       0.002       0.003\n",
       "fastfood       0.0005      0.000      3.119      0.002       0.000       0.001\n",
       "==============================================================================\n",
       "\n",
       "Notes:\n",
       "[1] Standard Errors assume that the covariance matrix of the errors is correctly specified.\n",
       "\"\"\""
      ]
     },
     "metadata": {},
     "output_type": "display_data"
    }
   ],
   "source": [
    "# Estimate multiple linear regression model\n",
    "fit = smf.ols('logbmi ~ age + fastfood', data=D_model).fit()\n",
    "display(fit.summary(slim=True))"
   ]
  },
  {
   "cell_type": "markdown",
   "metadata": {},
   "source": [
    "#### d) Model validation"
   ]
  },
  {
   "cell_type": "code",
   "execution_count": 15,
   "metadata": {},
   "outputs": [
    {
     "ename": "SyntaxError",
     "evalue": "invalid syntax (2550085270.py, line 8)",
     "output_type": "error",
     "traceback": [
      "\u001b[1;36m  Cell \u001b[1;32mIn[15], line 8\u001b[1;36m\u001b[0m\n\u001b[1;33m    plt.scatter(D_model.(EXPLANATORY_VARIABLE_HERE), fit.resid)\u001b[0m\n\u001b[1;37m                        ^\u001b[0m\n\u001b[1;31mSyntaxError\u001b[0m\u001b[1;31m:\u001b[0m invalid syntax\n"
     ]
    }
   ],
   "source": [
    "# Observations against fitted values\n",
    "plt.scatter(fit.fittedvalues, D_model.logbmi)\n",
    "plt.xlabel(\"Fitted values\")\n",
    "plt.ylabel(\"log(BMI)\")\n",
    "plt.show()\n",
    "\n",
    "# Residuals against each of the explanatory variables\n",
    "plt.scatter(D_model.(EXPLANATORY_VARIABLE_HERE), fit.resid)\n",
    "plt.xlabel(\"Insert text here\")\n",
    "plt.ylabel(\"Residuals\")\n",
    "\n",
    "# Residuals against fitted values\n",
    "plt.scatter(fit.fittedvalues, fit.resid)\n",
    "plt.xlabel(\"Fitted values\")\n",
    "plt.ylabel(\"Residuals\")\n",
    "plt.show()\n",
    "\n",
    "# Normal QQ-plot of the residuals\n",
    "sm.qqplot(fit.resid, line='q')\n",
    "plt.ylabel(\"Residuals\")\n",
    "plt.xlabel(\"Z-scores\")\n",
    "plt.title(\"\")\n",
    "plt.show()"
   ]
  },
  {
   "cell_type": "markdown",
   "metadata": {},
   "source": [
    "#### e) Confidence interval"
   ]
  },
  {
   "cell_type": "code",
   "execution_count": null,
   "metadata": {},
   "outputs": [],
   "source": [
    "# Confidence intervals for the model coefficients\n",
    "fit.conf_int(alpha=0.05)"
   ]
  },
  {
   "cell_type": "markdown",
   "metadata": {},
   "source": [
    "#### h) Predictions"
   ]
  },
  {
   "cell_type": "code",
   "execution_count": null,
   "metadata": {},
   "outputs": [],
   "source": [
    "# Predictions and 95% prediction intervals\n",
    "final_model = fit # Insert your final model. Must be same format as \"fit\"\n",
    "pred = final_model.get_prediction(D_test).summary_frame(alpha=0.05)\n",
    "\n",
    "# Reset index for D_test. So we can new dataframe with observed values and predictions\n",
    "D_test.reset_index(inplace=True)\n",
    "\n",
    "# Observed values and predictions\n",
    "# New dataframe\n",
    "res = pd.DataFrame({'id': D_test['id'],'logbmi': D_test['logbmi'],'pred': pred['mean'],'pred_lower': pred['obs_ci_lower'],'pred_upper':pred['obs_ci_upper']})\n",
    "display(res)"
   ]
  }
 ],
 "metadata": {
  "kernelspec": {
   "display_name": "base",
   "language": "python",
   "name": "python3"
  },
  "language_info": {
   "codemirror_mode": {
    "name": "ipython",
    "version": 3
   },
   "file_extension": ".py",
   "mimetype": "text/x-python",
   "name": "python",
   "nbconvert_exporter": "python",
   "pygments_lexer": "ipython3",
   "version": "3.12.4"
  }
 },
 "nbformat": 4,
 "nbformat_minor": 2
}
