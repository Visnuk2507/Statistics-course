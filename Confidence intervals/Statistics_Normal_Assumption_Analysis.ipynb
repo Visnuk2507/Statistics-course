{
 "cells": [
  {
   "cell_type": "markdown",
   "id": "4b05d8ce",
   "metadata": {},
   "source": [
    "## Section 3.1.1 - Distribution of the Sample Mean"
   ]
  },
  {
   "cell_type": "markdown",
   "id": "ea5fadf1",
   "metadata": {},
   "source": []
  },
  {
   "cell_type": "code",
   "execution_count": null,
   "id": "76ebc6f1",
   "metadata": {},
   "outputs": [],
   "source": []
  },
  {
   "cell_type": "markdown",
   "id": "9531d74a",
   "metadata": {},
   "source": [
    "## Section 3.1.2 - Quantifying the Precision of the Sample Mean"
   ]
  },
  {
   "cell_type": "markdown",
   "id": "365c599e",
   "metadata": {},
   "source": []
  },
  {
   "cell_type": "markdown",
   "id": "38d5e8e8",
   "metadata": {},
   "source": []
  },
  {
   "cell_type": "markdown",
   "id": "f93e50cf",
   "metadata": {},
   "source": [
    "## Section 3.1.3 - The Language of Statistics and the Process of Learning from Data"
   ]
  },
  {
   "cell_type": "markdown",
   "id": "3bf66cd8",
   "metadata": {},
   "source": []
  },
  {
   "cell_type": "code",
   "execution_count": null,
   "id": "677928c4",
   "metadata": {},
   "outputs": [],
   "source": []
  },
  {
   "cell_type": "markdown",
   "id": "50f7643c",
   "metadata": {},
   "source": [
    "## Section 3.1.4 - Central Limit Theorem"
   ]
  },
  {
   "cell_type": "markdown",
   "id": "198179ff",
   "metadata": {},
   "source": []
  },
  {
   "cell_type": "code",
   "execution_count": null,
   "id": "6bad8fd2",
   "metadata": {},
   "outputs": [],
   "source": []
  },
  {
   "cell_type": "markdown",
   "id": "3ad981f6",
   "metadata": {},
   "source": [
    "## Section 3.1.5 - Repeated Sampling Interpretation of Confidence Intervals"
   ]
  },
  {
   "cell_type": "markdown",
   "id": "0264cb36",
   "metadata": {},
   "source": []
  },
  {
   "cell_type": "code",
   "execution_count": null,
   "id": "d4c8e522",
   "metadata": {},
   "outputs": [],
   "source": []
  },
  {
   "cell_type": "markdown",
   "id": "f72a6b00",
   "metadata": {},
   "source": [
    "## Section 3.1.6 - Confidence Interval for the Variance"
   ]
  },
  {
   "cell_type": "markdown",
   "id": "7c3259fb",
   "metadata": {},
   "source": []
  },
  {
   "cell_type": "code",
   "execution_count": null,
   "id": "b0357400",
   "metadata": {},
   "outputs": [],
   "source": []
  },
  {
   "cell_type": "markdown",
   "id": "ad2dc45c",
   "metadata": {},
   "source": [
    "## Section 3.1.9 - Transformation Towards Normality"
   ]
  },
  {
   "cell_type": "markdown",
   "id": "4e4027c8",
   "metadata": {},
   "source": []
  },
  {
   "cell_type": "code",
   "execution_count": null,
   "id": "52681c57",
   "metadata": {},
   "outputs": [],
   "source": []
  }
 ],
 "metadata": {
  "kernelspec": {
   "display_name": "base",
   "language": "python",
   "name": "python3"
  },
  "language_info": {
   "name": "python",
   "version": "3.12.4"
  }
 },
 "nbformat": 4,
 "nbformat_minor": 5
}
