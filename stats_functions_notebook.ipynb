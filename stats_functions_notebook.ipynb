{
 "cells": [
  {
   "cell_type": "markdown",
   "id": "d946cfa4",
   "metadata": {},
   "source": [
    "# Statistical Functions in Python with `scipy.stats`\n",
    "\n",
    "This notebook covers several key statistical functions from the `scipy.stats` module in Python, including distributions, tests, and confidence intervals. Each section is dedicated to a different statistical function or concept.\n"
   ]
  },
  {
   "cell_type": "markdown",
   "id": "6b0bed3f",
   "metadata": {},
   "source": [
    "## t-distribution: `stats.t.ppf(q, df)`\n",
    "\n",
    "The `t.ppf()` function returns the critical value (percent point function) of the t-distribution for a given cumulative probability `q` and degrees of freedom `df`.\n",
    "\n",
    "### Example:\n",
    "\n",
    "```python\n",
    "import scipy.stats as stats\n",
    "\n",
    "# Critical value for 97.5% percentile with 10 degrees of freedom\n",
    "critical_value = stats.t.ppf(0.975, df=10)\n",
    "critical_value\n",
    "```\n"
   ]
  },
  {
   "cell_type": "markdown",
   "id": "2212bdf7",
   "metadata": {},
   "source": [
    "## One-sample t-test: `stats.ttest_1samp(x, popmean)`\n",
    "\n",
    "The `ttest_1samp()` function performs a one-sample t-test to compare the mean of a sample to a known population mean.\n",
    "\n",
    "### Example:\n",
    "\n",
    "```python\n",
    "import scipy.stats as stats\n",
    "\n",
    "# Perform one-sample t-test on sample data\n",
    "x = [190, 175, 180]\n",
    "t_statistic, p_value = stats.ttest_1samp(x, popmean=180)\n",
    "t_statistic, p_value\n",
    "```\n"
   ]
  },
  {
   "cell_type": "markdown",
   "id": "0951adc8",
   "metadata": {},
   "source": [
    "## Normal Distribution PDF: `stats.norm.pdf(x, loc=0, scale=1)`\n",
    "\n",
    "The `norm.pdf()` function computes the probability density function (PDF) of the normal distribution at a specific value of `x`.\n",
    "\n",
    "### Example:\n",
    "\n",
    "```python\n",
    "import scipy.stats as stats\n",
    "\n",
    "# Probability density at x = 0 for a standard normal distribution\n",
    "probability_density = stats.norm.pdf(0, loc=0, scale=1)\n",
    "probability_density\n",
    "```\n"
   ]
  },
  {
   "cell_type": "markdown",
   "id": "7a5af4bd",
   "metadata": {},
   "source": [
    "## Binomial Distribution CDF: `stats.binom.cdf(k, n, p)`\n",
    "\n",
    "The `binom.cdf()` function computes the cumulative distribution function (CDF) for a binomial distribution, which returns the probability that `X ≤ k`.\n",
    "\n",
    "### Example:\n",
    "\n",
    "```python\n",
    "import scipy.stats as stats\n",
    "\n",
    "# Cumulative probability for 2 successes in 10 trials with 50% success probability\n",
    "cumulative_prob = stats.binom.cdf(2, n=10, p=0.5)\n",
    "cumulative_prob\n",
    "```\n"
   ]
  },
  {
   "cell_type": "markdown",
   "id": "f7c54c1e",
   "metadata": {},
   "source": [
    "## Binomial Distribution PMF: `stats.binom.pmf(k, n, p)`\n",
    "\n",
    "The `binom.pmf()` function computes the probability mass function (PMF) for a binomial distribution, which returns the probability of exactly `k` successes.\n",
    "\n",
    "### Example:\n",
    "\n",
    "```python\n",
    "import scipy.stats as stats\n",
    "\n",
    "# Probability of exactly 2 successes in 10 trials with 50% success probability\n",
    "probability = stats.binom.pmf(2, n=10, p=0.5)\n",
    "probability\n",
    "```\n"
   ]
  },
  {
   "cell_type": "markdown",
   "id": "20cbc022",
   "metadata": {},
   "source": [
    "## Poisson Distribution CDF: `stats.poisson.cdf(k, mu)`\n",
    "\n",
    "The `poisson.cdf()` function computes the cumulative distribution function (CDF) for a Poisson distribution, which gives the probability that `X ≤ k`.\n",
    "\n",
    "### Example:\n",
    "\n",
    "```python\n",
    "import scipy.stats as stats\n",
    "\n",
    "# Cumulative probability of observing 2 or fewer events with mean 3\n",
    "cumulative_prob = stats.poisson.cdf(2, mu=3)\n",
    "cumulative_prob\n",
    "```\n"
   ]
  },
  {
   "cell_type": "markdown",
   "id": "d4c1d78b",
   "metadata": {},
   "source": [
    "## Poisson Distribution PMF: `stats.poisson.pmf(k, mu)`\n",
    "\n",
    "The `poisson.pmf()` function computes the probability mass function (PMF) for the Poisson distribution, which returns the probability of observing exactly `k` events.\n",
    "\n",
    "### Example:\n",
    "\n",
    "```python\n",
    "import scipy.stats as stats\n",
    "\n",
    "# Probability of observing exactly 2 events with mean 3\n",
    "probability = stats.poisson.pmf(2, mu=3)\n",
    "probability\n",
    "```\n"
   ]
  },
  {
   "cell_type": "markdown",
   "id": "34ce1ca7",
   "metadata": {},
   "source": [
    "## Hypergeometric Distribution PMF: `stats.hypergeom.pmf(k, M, n, N)`\n",
    "\n",
    "The `hypergeom.pmf()` function computes the probability mass function (PMF) for the hypergeometric distribution, which is used when sampling without replacement.\n",
    "\n",
    "### Example:\n",
    "\n",
    "```python\n",
    "import scipy.stats as stats\n",
    "\n",
    "# Probability of observing exactly 5 successes in 10 draws from a population of 20, with 7 successes\n",
    "probability = stats.hypergeom.pmf(k=5, M=20, n=7, N=10)\n",
    "probability\n",
    "```\n"
   ]
  },
  {
   "cell_type": "markdown",
   "id": "b7312bba",
   "metadata": {},
   "source": [
    "## Normal Distribution CDF: `stats.norm.cdf(x, loc=0, scale=1)`\n",
    "\n",
    "The `norm.cdf()` function computes the cumulative distribution function (CDF) for the normal distribution, which returns the probability that a random variable is less than or equal to `x`.\n",
    "\n",
    "### Example:\n",
    "\n",
    "```python\n",
    "import scipy.stats as stats\n",
    "\n",
    "# Cumulative probability at x = 1.96 for a standard normal distribution\n",
    "cumulative_prob = stats.norm.cdf(1.96, loc=0, scale=1)\n",
    "cumulative_prob\n",
    "```\n"
   ]
  }
 ],
 "metadata": {},
 "nbformat": 4,
 "nbformat_minor": 5
}
